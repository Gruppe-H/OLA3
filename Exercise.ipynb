{
 "cells": [
  {
   "cell_type": "markdown",
   "id": "2ad74408-a093-4a82-b399-d194d0211b44",
   "metadata": {},
   "source": [
    "# OLA3\n",
    "### Gruppe H (Caroline og Maria)"
   ]
  },
  {
   "cell_type": "code",
   "execution_count": 1,
   "id": "7c8af26d-2df1-4d14-8f76-3fa0136b44cc",
   "metadata": {},
   "outputs": [],
   "source": [
    "import numpy as np\n",
    "import pandas as pd\n",
    "import os\n",
    "%matplotlib inline\n",
    "import matplotlib as mpl\n",
    "import matplotlib.pyplot as plt\n",
    "mpl.rc('axes', labelsize=14)\n",
    "mpl.rc('xtick', labelsize=12)\n",
    "mpl.rc('ytick', labelsize=12)\n",
    "import seaborn as sns"
   ]
  },
  {
   "cell_type": "code",
   "execution_count": 2,
   "id": "2f8000b5-7142-44d5-ab50-d57cdd62666a",
   "metadata": {},
   "outputs": [],
   "source": [
    "shootings_df1 = pd.read_csv('Dataset/Mass Shootings Dataset.csv', encoding='ISO-8859-1')\n",
    "shootings_df2 = pd.read_excel('Dataset/Mother_Jones_-_Mass_Shootings_Database_1982_-_2019.xlsx')"
   ]
  },
  {
   "cell_type": "code",
   "execution_count": null,
   "id": "733aea81-662c-4b1a-a673-57a1b7e04981",
   "metadata": {},
   "outputs": [],
   "source": []
  },
  {
   "cell_type": "code",
   "execution_count": null,
   "id": "df197a30-e3df-443b-9e04-42d10934ea0f",
   "metadata": {},
   "outputs": [],
   "source": []
  }
 ],
 "metadata": {
  "kernelspec": {
   "display_name": "Python 3 (ipykernel)",
   "language": "python",
   "name": "python3"
  },
  "language_info": {
   "codemirror_mode": {
    "name": "ipython",
    "version": 3
   },
   "file_extension": ".py",
   "mimetype": "text/x-python",
   "name": "python",
   "nbconvert_exporter": "python",
   "pygments_lexer": "ipython3",
   "version": "3.12.2"
  }
 },
 "nbformat": 4,
 "nbformat_minor": 5
}
